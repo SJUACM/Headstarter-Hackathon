{
 "cells": [
  {
   "cell_type": "markdown",
   "metadata": {},
   "source": [
    "# Import Libraries"
   ]
  },
  {
   "cell_type": "code",
   "execution_count": 295,
   "metadata": {},
   "outputs": [],
   "source": [
    "import pandas as pd\n",
    "import random\n",
    "# Necessary imports\n",
    "\n",
    "import math\n",
    "import pandas as pd\n",
    "import matplotlib\n",
    "import matplotlib.pyplot as plt\n",
    "from matplotlib.pyplot import figure\n",
    "from datetime import datetime\n",
    "import plotly.graph_objects as go\n",
    "import plotly.express as px\n",
    "import numpy as np\n",
    "from ipywidgets import interactive\n",
    "import ipywidgets as widgets\n",
    "from IPython.display import display, clear_output\n",
    "from ipywidgets import interact, Layout\n",
    "import locale\n",
    "import warnings\n",
    "import seaborn as sns\n",
    "from scipy.interpolate import interp1d\n",
    "from sklearn.linear_model import LinearRegression\n",
    "\n",
    "warnings.filterwarnings('ignore')\n",
    "\n",
    "# For number formatting \n",
    "locale.setlocale(locale.LC_ALL, '') \n",
    "\n",
    "# Style of plots\n",
    "matplotlib.style.use('seaborn')\n",
    "\n",
    "from faker import Faker\n",
    "fake = Faker()"
   ]
  },
  {
   "cell_type": "code",
   "execution_count": 296,
   "metadata": {},
   "outputs": [],
   "source": [
    "df = pd.read_csv('OriginalDataset.csv')"
   ]
  },
  {
   "cell_type": "code",
   "execution_count": 297,
   "metadata": {},
   "outputs": [],
   "source": [
    "df = df.drop(['Kidhome', 'Teenhome', 'Marital_Status', 'Z_Revenue', 'Z_CostContact', 'NumDealsPurchases', 'AcceptedCmp3', 'AcceptedCmp4', 'AcceptedCmp5', 'AcceptedCmp1', 'AcceptedCmp2', 'Response'], axis=1)\n",
    "df['Dt_Customer'] = pd.to_datetime(df['Dt_Customer'])"
   ]
  },
  {
   "cell_type": "code",
   "execution_count": 298,
   "metadata": {},
   "outputs": [],
   "source": [
    "df = df.rename({'ID' : 'Customer_ID', \n",
    "                'Dt_Customer' : 'Date_Enrolled', 'Recency': 'Days_Since_Last_Cohort',\n",
    "                'MntWines' : 'Amount_Spent_On_Courses', 'MntFruits' : 'Amount_Spent_on_Books',\n",
    "                'MntMeatProducts' : 'Minutes_Spent_on_Headstarter', 'MntFishProducts' : 'Questions_Completed',\n",
    "                'MntSweetProducts' : 'Videos_Watched', 'MntGoldProds' : 'Minutes_Spent_Coding',\n",
    "                'NumCatalogPurchases' : 'Num_Courses_Purchased', 'NumStorePurchases' : 'Number_of_Students_Referred',\n",
    "                'NumWebVisitsMonth' : 'Site_Visits_Per_Month', 'NumWebPurchases' : 'Email_Opens'}, axis=1)"
   ]
  },
  {
   "cell_type": "code",
   "execution_count": 299,
   "metadata": {},
   "outputs": [],
   "source": [
    "df['Education'] = df['Education'].replace({'Basic': 'In-College', 'Graduation': 'Bachelors', '2n Cycle' : 'High School', 'Master' : 'Masters'})"
   ]
  },
  {
   "cell_type": "code",
   "execution_count": 300,
   "metadata": {},
   "outputs": [],
   "source": [
    "df['Average_Teammate_Rating'] = [round(random.uniform(4, 10), 2) for _ in range(df.shape[0])]\n",
    "df['Cohorts_Participated_In'] = [int(random.uniform(1, 5)) for _ in range(df.shape[0])]\n",
    "df['Highest_Leaderboard_Rank'] = [int(np.random.normal(50, 15)) for _ in range(df.shape[0])]\n",
    "df['Headstarter_Rating'] = [int(random.uniform(5, 10)) for _ in range(df.shape[0])]\n",
    "df['First_Name'] = [fake.first_name() for _ in range(df.shape[0])]\n",
    "df['Last_Name'] = [fake.last_name() for _ in range(df.shape[0])]\n",
    "\n",
    "df['Site_Visits_Per_Month'] = df['Site_Visits_Per_Month'].apply(lambda x : x*2)"
   ]
  },
  {
   "cell_type": "code",
   "execution_count": 301,
   "metadata": {},
   "outputs": [],
   "source": [
    "df.loc[df['Education'] == 'PhD', 'Income'] = df[df['Education'] == 'PhD']['Income'] * 2\n",
    "df.loc[df['Education'] == 'In-College', 'Income'] = df[df['Education'] == 'In-College']['Income'] * 1.3\n",
    "df.loc[df['Education'] == 'Masters', 'Income'] = df[df['Education'] == 'Masters']['Income'] * 1.8\n",
    "df.loc[df['Education'] == 'Bachelors', 'Income'] = df[df['Education'] == 'Bachelors']['Income'] * 1.6\n",
    "df.loc[df['Education'] == 'High School', 'Income'] = df[df['Education'] == 'High School']['Income'] * 0.2\n",
    "\n",
    "\n",
    "df.loc[df['Education'] == 'In-College', 'Amount_Spent_On_Courses'] = df[df['Education'] == 'In-College']['Amount_Spent_On_Courses'] * 30"
   ]
  },
  {
   "cell_type": "code",
   "execution_count": 302,
   "metadata": {},
   "outputs": [],
   "source": [
    "df = df[(df['Income'] < 300000) & (df['Income'] > 0)]"
   ]
  },
  {
   "cell_type": "code",
   "execution_count": 303,
   "metadata": {},
   "outputs": [
    {
     "data": {
      "image/png": "[encoded data removed]",
      "text/plain": [
       "<Figure size 576x396 with 1 Axes>"
      ]
     },
     "metadata": {},
     "output_type": "display_data"
    }
   ],
   "source": [
    "plt.figure()\n",
    "plt.hist(df[df['Education'] == 'Bachelors']['Income'], bins=10, density=True, label='Bachelors')\n",
    "plt.hist(df[df['Education'] == 'Masters']['Income'], bins=10,  density=True, label='Masters')\n",
    "plt.hist(df[df['Education'] == 'PhD']['Income'], bins=10, density=True, label='PhD')\n",
    "#plt.hist(df[df['Education'] == 'In-College']['Income'], bins=10, stacked=True, density=True)\n",
    "plt.legend()\n",
    "plt.show()"
   ]
  },
  {
   "cell_type": "code",
   "execution_count": 304,
   "metadata": {},
   "outputs": [
    {
     "data": {
      "application/vnd.jupyter.widget-view+json": {
       "model_id": "77c15d73db3640d790e53b33d747438b",
       "version_major": 2,
       "version_minor": 0
      },
      "text/plain": [
       "interactive(children=(Dropdown(description='metric', options=('Customer_ID', 'Year_Birth', 'Education', 'Incom…"
      ]
     },
     "metadata": {},
     "output_type": "display_data"
    },
    {
     "data": {
      "text/plain": [
       "<function __main__.bar_plot(metric)>"
      ]
     },
     "execution_count": 304,
     "metadata": {},
     "output_type": "execute_result"
    }
   ],
   "source": [
    "def bar_plot(metric):\n",
    "    df_sorted = df.sort_values(by=metric, ascending=False)\n",
    "    fig = sns.barplot(x='Education', y=metric, data=df, estimator=np.median)\n",
    "\n",
    "\n",
    "\n",
    "interact(bar_plot, metric=list(df.columns))"
   ]
  },
  {
   "cell_type": "code",
   "execution_count": null,
   "metadata": {},
   "outputs": [],
   "source": []
  },
  {
   "cell_type": "code",
   "execution_count": 305,
   "metadata": {},
   "outputs": [],
   "source": [
    "df = df[['Customer_ID', 'First_Name', 'Last_Name', 'Year_Birth', 'Education', 'Income', 'Date_Enrolled',\n",
    "       'Days_Since_Last_Cohort', 'Amount_Spent_On_Courses',\n",
    "       'Amount_Spent_on_Books', 'Minutes_Spent_on_Headstarter',\n",
    "       'Questions_Completed', 'Videos_Watched', 'Minutes_Spent_Coding',\n",
    "       'Email_Opens', 'Num_Courses_Purchased', 'Number_of_Students_Referred',\n",
    "       'Site_Visits_Per_Month', 'Average_Teammate_Rating',\n",
    "       'Cohorts_Participated_In', 'Highest_Leaderboard_Rank', 'Complain', 'Headstarter_Rating']]"
   ]
  },
  {
   "cell_type": "code",
   "execution_count": null,
   "metadata": {},
   "outputs": [],
   "source": []
  },
  {
   "cell_type": "code",
   "execution_count": 306,
   "metadata": {},
   "outputs": [],
   "source": [
    "# def apply_random_skew(df_):\n",
    "    \n",
    "#     new_df = df_.copy(deep=True)\n",
    "    \n",
    "#     cols = ['Days_Since_Last_Cohort', 'Amount_Spent_On_Courses',\n",
    "#             'Amount_Spent_on_Books', 'Minutes_Spent_on_Headstarter',\n",
    "#             'Questions_Completed', 'Videos_Watched', 'Minutes_Spent_Coding',\n",
    "#             'Email_Opens', 'Num_Courses_Purchased', 'Number_of_Students_Referred',\n",
    "#             'Site_Visits_Per_Month']\n",
    "    \n",
    "#     for col in cols:\n",
    "#         new_df.loc[df['Education'] == 'PhD', col] = round(df[df['Education'] == 'PhD'][col] * (random.uniform(0.5, 6)), 0)\n",
    "#         new_df.loc[df['Education'] == 'In-College', col] = round(df[df['Education'] == 'In-College'][col] * (random.uniform(0.5, 6)), 0)\n",
    "#         new_df.loc[df['Education'] == 'Masters', col] = round(df[df['Education'] == 'Masters'][col] * (random.uniform(0.5, 6)), 0)\n",
    "#         new_df.loc[df['Education'] == 'Bachelors', col] = round(df[df['Education'] == 'Bachelors'][col] * (random.uniform(0.5, 6)), 0)\n",
    "#         new_df.loc[df['Education'] == 'High School', col] = round(df[df['Education'] == 'High School'][col] * (random.uniform(0.5, 6)), 0)\n",
    "                                                                                                         \n",
    "#     return new_df                                                                                                     "
   ]
  },
  {
   "cell_type": "code",
   "execution_count": 307,
   "metadata": {},
   "outputs": [],
   "source": [
    "#new_df = apply_random_skew(df)"
   ]
  },
  {
   "cell_type": "code",
   "execution_count": 308,
   "metadata": {},
   "outputs": [],
   "source": [
    "#new_df"
   ]
  },
  {
   "cell_type": "code",
   "execution_count": null,
   "metadata": {},
   "outputs": [],
   "source": []
  },
  {
   "cell_type": "markdown",
   "metadata": {},
   "source": [
    "# Highest Leaderboard Rank Calculation"
   ]
  },
  {
   "cell_type": "code",
   "execution_count": 310,
   "metadata": {},
   "outputs": [],
   "source": [
    "cols = ['Amount_Spent_On_Courses',\n",
    "            'Amount_Spent_on_Books', 'Minutes_Spent_on_Headstarter',\n",
    "            'Questions_Completed', 'Videos_Watched', 'Minutes_Spent_Coding',\n",
    "            'Email_Opens', 'Num_Courses_Purchased', 'Number_of_Students_Referred',\n",
    "            'Site_Visits_Per_Month', 'Average_Teammate_Rating',\n",
    "            'Cohorts_Participated_In']\n",
    "\n",
    "col_dict = {'Amount_Spent_On_Courses' : 20, \n",
    "            'Amount_Spent_on_Books' : 20,\n",
    "            'Minutes_Spent_on_Headstarter' : 100,\n",
    "            'Questions_Completed' : 70,\n",
    "            'Videos_Watched' : 70,\n",
    "            'Minutes_Spent_Coding' : 70,\n",
    "            'Email_Opens': 2,\n",
    "            'Num_Courses_Purchased' : 20, \n",
    "            'Number_of_Students_Referred' : 10,\n",
    "            'Site_Visits_Per_Month' : 50,\n",
    "            'Average_Teammate_Rating' : 40,\n",
    "            'Cohorts_Participated_In' : 45}"
   ]
  },
  {
   "cell_type": "code",
   "execution_count": 311,
   "metadata": {},
   "outputs": [],
   "source": [
    "ranks = []\n",
    "\n",
    "for row in df.iterrows():\n",
    "    \n",
    "    summ = 0\n",
    "    \n",
    "    for key in col_dict:\n",
    "        summ += (1 + row[1][key]) * col_dict[key]\n",
    "    \n",
    "    ranks.append(summ)"
   ]
  },
  {
   "cell_type": "code",
   "execution_count": 312,
   "metadata": {},
   "outputs": [],
   "source": [
    "min_rank = min(ranks)\n",
    "max_rank = max(ranks)"
   ]
  },
  {
   "cell_type": "code",
   "execution_count": 313,
   "metadata": {},
   "outputs": [],
   "source": [
    "cleaned_ranks = []\n",
    "for r in ranks:\n",
    "    x = interp1d([min_rank, max_rank], [3,300])\n",
    "    cleaned_ranks.append(300 - round(float(x(r)), 0))"
   ]
  },
  {
   "cell_type": "code",
   "execution_count": 314,
   "metadata": {},
   "outputs": [],
   "source": [
    "df['Highest_Leaderboard_Rank'] = cleaned_ranks"
   ]
  },
  {
   "cell_type": "code",
   "execution_count": 315,
   "metadata": {},
   "outputs": [
    {
     "data": {
      "text/plain": [
       "<AxesSubplot:>"
      ]
     },
     "execution_count": 315,
     "metadata": {},
     "output_type": "execute_result"
    },
    {
     "data": {
      "image/png": "[encoded data removed]",
      "text/plain": [
       "<Figure size 576x396 with 1 Axes>"
      ]
     },
     "metadata": {},
     "output_type": "display_data"
    }
   ],
   "source": [
    "df['Highest_Leaderboard_Rank'].hist()"
   ]
  },
  {
   "cell_type": "code",
   "execution_count": 316,
   "metadata": {},
   "outputs": [
    {
     "data": {
      "text/plain": [
       "(1400.2, 179079.8)"
      ]
     },
     "execution_count": 316,
     "metadata": {},
     "output_type": "execute_result"
    }
   ],
   "source": [
    "min_rank, max_rank"
   ]
  },
  {
   "cell_type": "code",
   "execution_count": 317,
   "metadata": {},
   "outputs": [
    {
     "data": {
      "text/plain": [
       "183.7353854916378"
      ]
     },
     "execution_count": 317,
     "metadata": {},
     "output_type": "execute_result"
    }
   ],
   "source": [
    "x = interp1d([min_rank, max_rank],[1,300])\n",
    "float(x(109990))"
   ]
  },
  {
   "cell_type": "code",
   "execution_count": null,
   "metadata": {},
   "outputs": [],
   "source": []
  },
  {
   "cell_type": "code",
   "execution_count": null,
   "metadata": {},
   "outputs": [],
   "source": []
  },
  {
   "cell_type": "code",
   "execution_count": null,
   "metadata": {},
   "outputs": [],
   "source": []
  },
  {
   "cell_type": "code",
   "execution_count": null,
   "metadata": {},
   "outputs": [],
   "source": []
  },
  {
   "cell_type": "markdown",
   "metadata": {},
   "source": [
    "# Probability of Getting Offer Calcuation"
   ]
  },
  {
   "cell_type": "code",
   "execution_count": 318,
   "metadata": {},
   "outputs": [],
   "source": [
    "prob_offer_dict = {'Amount_Spent_On_Courses' : 40, \n",
    "            'Amount_Spent_on_Books' : 40,\n",
    "            'Minutes_Spent_on_Headstarter' : 150,\n",
    "            'Questions_Completed' : 100,\n",
    "            'Videos_Watched' : 80,\n",
    "            'Minutes_Spent_Coding' : 120,\n",
    "            'Email_Opens': 5,\n",
    "            'Num_Courses_Purchased' : 20, \n",
    "            'Number_of_Students_Referred' : 20,\n",
    "            'Site_Visits_Per_Month' : 50,\n",
    "            'Average_Teammate_Rating' : 70,\n",
    "            'Cohorts_Participated_In' : 80,\n",
    "            'Highest_Leaderboard_Rank' : 200}"
   ]
  },
  {
   "cell_type": "code",
   "execution_count": 319,
   "metadata": {},
   "outputs": [],
   "source": [
    "probs = []\n",
    "\n",
    "for row in df.iterrows():\n",
    "    \n",
    "    summ = 0\n",
    "    \n",
    "    for key in col_dict:\n",
    "        summ += (1 + row[1][key]) * prob_offer_dict[key]\n",
    "    \n",
    "    probs.append(summ)"
   ]
  },
  {
   "cell_type": "code",
   "execution_count": 320,
   "metadata": {},
   "outputs": [
    {
     "data": {
      "text/plain": [
       "(1400.2, 179079.8)"
      ]
     },
     "execution_count": 320,
     "metadata": {},
     "output_type": "execute_result"
    }
   ],
   "source": [
    "min_rank = min(ranks)\n",
    "max_rank = max(ranks)\n",
    "min_rank, max_rank"
   ]
  },
  {
   "cell_type": "code",
   "execution_count": 321,
   "metadata": {},
   "outputs": [],
   "source": [
    "cleaned_probs = []\n",
    "for r in ranks:\n",
    "    x = interp1d([min_rank, max_rank], [0, 100])\n",
    "    cleaned_probs.append(round(float(x(r)), 0))"
   ]
  },
  {
   "cell_type": "code",
   "execution_count": 322,
   "metadata": {},
   "outputs": [],
   "source": [
    "df['Probability_Of_Getting_Offer'] = cleaned_probs"
   ]
  },
  {
   "cell_type": "code",
   "execution_count": 323,
   "metadata": {},
   "outputs": [],
   "source": [
    "df['Probability_Of_Getting_Offer'] = df['Probability_Of_Getting_Offer'].apply(lambda x : round(x * random.uniform(0.5, 1), 1))\n",
    "df['Highest_Leaderboard_Rank'] = df['Highest_Leaderboard_Rank'].apply(lambda x : round(x * random.uniform(1, 2), 0))"
   ]
  },
  {
   "cell_type": "code",
   "execution_count": null,
   "metadata": {},
   "outputs": [],
   "source": []
  },
  {
   "cell_type": "code",
   "execution_count": null,
   "metadata": {},
   "outputs": [],
   "source": []
  },
  {
   "cell_type": "markdown",
   "metadata": {},
   "source": [
    "# Linear Regression Test"
   ]
  },
  {
   "cell_type": "code",
   "execution_count": 324,
   "metadata": {},
   "outputs": [],
   "source": [
    "cols = ['Amount_Spent_On_Courses',\n",
    "            'Amount_Spent_on_Books', 'Minutes_Spent_on_Headstarter',\n",
    "            'Questions_Completed', 'Videos_Watched', 'Minutes_Spent_Coding',\n",
    "            'Email_Opens', 'Num_Courses_Purchased', 'Number_of_Students_Referred',\n",
    "            'Site_Visits_Per_Month', 'Average_Teammate_Rating',\n",
    "            'Cohorts_Participated_In']"
   ]
  },
  {
   "cell_type": "code",
   "execution_count": 325,
   "metadata": {},
   "outputs": [
    {
     "data": {
      "text/plain": [
       "LinearRegression()"
      ]
     },
     "execution_count": 325,
     "metadata": {},
     "output_type": "execute_result"
    }
   ],
   "source": [
    "x = df[cols]\n",
    "y = df['Probability_Of_Getting_Offer']\n",
    " \n",
    "from sklearn.model_selection import train_test_split\n",
    "# splitting the data\n",
    "x_train, x_test, y_train, y_test = train_test_split(x, y, test_size = 0.2, random_state = 42)\n",
    "\n",
    "# with sklearn\n",
    "regr = LinearRegression()\n",
    "regr.fit(x_train, y_train)"
   ]
  },
  {
   "cell_type": "code",
   "execution_count": 326,
   "metadata": {},
   "outputs": [],
   "source": [
    "y_prediction =  regr.predict(x_test)"
   ]
  },
  {
   "cell_type": "code",
   "execution_count": 327,
   "metadata": {},
   "outputs": [
    {
     "name": "stdout",
     "output_type": "stream",
     "text": [
      "r_sqr value: 0.9407747708719068\n",
      "0.9455751685993489\n",
      "12.304914210829764\n"
     ]
    }
   ],
   "source": [
    "from sklearn.metrics import r2_score\n",
    "from sklearn.metrics import mean_squared_error\n",
    "\n",
    "print(f'r_sqr value: {regr.score(x, y)}')\n",
    "\n",
    "score= r2_score(y_test,y_prediction)\n",
    "print(score)\n",
    "print(mean_squared_error(y_test,y_prediction))"
   ]
  },
  {
   "cell_type": "code",
   "execution_count": null,
   "metadata": {},
   "outputs": [],
   "source": []
  },
  {
   "cell_type": "markdown",
   "metadata": {},
   "source": [
    "# Apply Transformations"
   ]
  },
  {
   "cell_type": "code",
   "execution_count": 329,
   "metadata": {},
   "outputs": [
    {
     "data": {
      "text/plain": [
       "Index(['Customer_ID', 'First_Name', 'Last_Name', 'Year_Birth', 'Education',\n",
       "       'Income', 'Date_Enrolled', 'Days_Since_Last_Cohort',\n",
       "       'Amount_Spent_On_Courses', 'Amount_Spent_on_Books',\n",
       "       'Minutes_Spent_on_Headstarter', 'Questions_Completed', 'Videos_Watched',\n",
       "       'Minutes_Spent_Coding', 'Email_Opens', 'Num_Courses_Purchased',\n",
       "       'Number_of_Students_Referred', 'Site_Visits_Per_Month',\n",
       "       'Average_Teammate_Rating', 'Cohorts_Participated_In',\n",
       "       'Highest_Leaderboard_Rank', 'Complain', 'Headstarter_Rating',\n",
       "       'Probability_Of_Getting_Offer'],\n",
       "      dtype='object')"
      ]
     },
     "execution_count": 329,
     "metadata": {},
     "output_type": "execute_result"
    }
   ],
   "source": [
    "df.columns"
   ]
  },
  {
   "cell_type": "code",
   "execution_count": 330,
   "metadata": {},
   "outputs": [
    {
     "data": {
      "text/plain": [
       "<AxesSubplot:>"
      ]
     },
     "execution_count": 330,
     "metadata": {},
     "output_type": "execute_result"
    },
    {
     "data": {
      "image/png": "[encoded data removed]",
      "text/plain": [
       "<Figure size 576x396 with 1 Axes>"
      ]
     },
     "metadata": {},
     "output_type": "display_data"
    }
   ],
   "source": [
    "sns.boxplot(data=df[[\"Minutes_Spent_on_Headstarter\", \"Minutes_Spent_Coding\", 'Questions_Completed']], orient=\"h\")"
   ]
  },
  {
   "cell_type": "code",
   "execution_count": 331,
   "metadata": {},
   "outputs": [],
   "source": [
    "df['Questions_Completed'] = df['Minutes_Spent_on_Headstarter'] * round(random.uniform(0.8, 3), 0) // 1.5\n",
    "df['Videos_Watched'] = df['Minutes_Spent_on_Headstarter'] * round(random.uniform(0.4, 0.8), 0) // 8\n",
    "df['Minutes_Spent_Coding'] = df['Minutes_Spent_on_Headstarter'] * round(random.uniform(0.5, 0.8), 0) // 2"
   ]
  },
  {
   "cell_type": "code",
   "execution_count": 332,
   "metadata": {},
   "outputs": [
    {
     "data": {
      "text/plain": [
       "<AxesSubplot:>"
      ]
     },
     "execution_count": 332,
     "metadata": {},
     "output_type": "execute_result"
    },
    {
     "data": {
      "image/png": "[encoded data removed]",
      "text/plain": [
       "<Figure size 576x396 with 1 Axes>"
      ]
     },
     "metadata": {},
     "output_type": "display_data"
    }
   ],
   "source": [
    "df['Minutes_Spent_Coding'].hist()"
   ]
  },
  {
   "cell_type": "code",
   "execution_count": 333,
   "metadata": {},
   "outputs": [
    {
     "data": {
      "text/plain": [
       "34.0"
      ]
     },
     "execution_count": 333,
     "metadata": {},
     "output_type": "execute_result"
    }
   ],
   "source": [
    "df['Minutes_Spent_Coding'].median()"
   ]
  },
  {
   "cell_type": "code",
   "execution_count": 334,
   "metadata": {},
   "outputs": [],
   "source": [
    "def apply_transformation(df, category, subset, col, delta):\n",
    "    \n",
    "    new_df = df.copy(deep=True)\n",
    "    \n",
    "    new_df.loc[df[category] == subset, col] = round(df[df[category] == subset][col] * delta, 0)\n",
    "    \n",
    "    return new_df"
   ]
  },
  {
   "cell_type": "code",
   "execution_count": 335,
   "metadata": {},
   "outputs": [],
   "source": [
    "df = apply_transformation(df, 'Education', 'In-College', 'Minutes_Spent_on_Headstarter', 5)\n",
    "df = apply_transformation(df, 'Education', 'In-College', 'Videos_Watched', 8)"
   ]
  },
  {
   "cell_type": "code",
   "execution_count": 336,
   "metadata": {},
   "outputs": [
    {
     "data": {
      "text/plain": [
       "<AxesSubplot:>"
      ]
     },
     "execution_count": 336,
     "metadata": {},
     "output_type": "execute_result"
    },
    {
     "data": {
      "image/png": "[encoded data removed]",
      "text/plain": [
       "<Figure size 576x396 with 1 Axes>"
      ]
     },
     "metadata": {},
     "output_type": "display_data"
    }
   ],
   "source": [
    "df[df['Education'] == 'In-College']['Videos_Watched'].hist()"
   ]
  },
  {
   "cell_type": "code",
   "execution_count": 337,
   "metadata": {},
   "outputs": [
    {
     "data": {
      "application/vnd.jupyter.widget-view+json": {
       "model_id": "a29d057e05ad46ecb905b69013cc8666",
       "version_major": 2,
       "version_minor": 0
      },
      "text/plain": [
       "interactive(children=(Dropdown(description='metric', options=('Customer_ID', 'First_Name', 'Last_Name', 'Year_…"
      ]
     },
     "metadata": {},
     "output_type": "display_data"
    },
    {
     "data": {
      "text/plain": [
       "<function __main__.bar_plot(metric)>"
      ]
     },
     "execution_count": 337,
     "metadata": {},
     "output_type": "execute_result"
    }
   ],
   "source": [
    "def bar_plot(metric):\n",
    "    df_sorted = df.sort_values(by=metric, ascending=False)\n",
    "    fig = sns.barplot(x='Education', y=metric, data=df, estimator=np.median)\n",
    "\n",
    "\n",
    "\n",
    "interact(bar_plot, metric=list(df.columns))"
   ]
  },
  {
   "cell_type": "code",
   "execution_count": null,
   "metadata": {},
   "outputs": [],
   "source": []
  },
  {
   "cell_type": "code",
   "execution_count": null,
   "metadata": {},
   "outputs": [],
   "source": []
  },
  {
   "cell_type": "markdown",
   "metadata": {},
   "source": [
    "# Add College Major Column"
   ]
  },
  {
   "cell_type": "code",
   "execution_count": 338,
   "metadata": {},
   "outputs": [],
   "source": [
    "from numpy.random import choice"
   ]
  },
  {
   "cell_type": "code",
   "execution_count": 339,
   "metadata": {},
   "outputs": [],
   "source": [
    "majors = ['Computer Science', 'Cyber Security', 'Pre-Med', 'Marketing', 'Finance', 'Law']\n",
    "probabilities = [0.65, 0.12, 0.08, 0.03, 0.09, 0.03]\n"
   ]
  },
  {
   "cell_type": "code",
   "execution_count": 340,
   "metadata": {},
   "outputs": [],
   "source": [
    "random_major_list = choice(majors, df.shape[0], p=probabilities)"
   ]
  },
  {
   "cell_type": "code",
   "execution_count": 341,
   "metadata": {},
   "outputs": [],
   "source": [
    "df['Major'] = random_major_list"
   ]
  },
  {
   "cell_type": "code",
   "execution_count": 342,
   "metadata": {},
   "outputs": [],
   "source": [
    "df = df[['Customer_ID', 'First_Name', 'Last_Name', 'Year_Birth', 'Education', 'Major',\n",
    "       'Income', 'Date_Enrolled', 'Days_Since_Last_Cohort',\n",
    "       'Amount_Spent_On_Courses', 'Amount_Spent_on_Books',\n",
    "       'Minutes_Spent_on_Headstarter', 'Questions_Completed', 'Videos_Watched',\n",
    "       'Minutes_Spent_Coding', 'Email_Opens', 'Num_Courses_Purchased',\n",
    "       'Number_of_Students_Referred', 'Site_Visits_Per_Month',\n",
    "       'Average_Teammate_Rating', 'Cohorts_Participated_In',\n",
    "       'Highest_Leaderboard_Rank', 'Complain', 'Headstarter_Rating',\n",
    "       'Probability_Of_Getting_Offer']]"
   ]
  },
  {
   "cell_type": "code",
   "execution_count": 343,
   "metadata": {},
   "outputs": [
    {
     "data": {
      "text/html": [
       "<div>\n",
       "<style scoped>\n",
       "    .dataframe tbody tr th:only-of-type {\n",
       "        vertical-align: middle;\n",
       "    }\n",
       "\n",
       "    .dataframe tbody tr th {\n",
       "        vertical-align: top;\n",
       "    }\n",
       "\n",
       "    .dataframe thead th {\n",
       "        text-align: right;\n",
       "    }\n",
       "</style>\n",
       "<table border=\"1\" class=\"dataframe\">\n",
       "  <thead>\n",
       "    <tr style=\"text-align: right;\">\n",
       "      <th></th>\n",
       "      <th>Customer_ID</th>\n",
       "      <th>First_Name</th>\n",
       "      <th>Last_Name</th>\n",
       "      <th>Year_Birth</th>\n",
       "      <th>Education</th>\n",
       "      <th>Major</th>\n",
       "      <th>Income</th>\n",
       "      <th>Date_Enrolled</th>\n",
       "      <th>Days_Since_Last_Cohort</th>\n",
       "      <th>Amount_Spent_On_Courses</th>\n",
       "      <th>...</th>\n",
       "      <th>Email_Opens</th>\n",
       "      <th>Num_Courses_Purchased</th>\n",
       "      <th>Number_of_Students_Referred</th>\n",
       "      <th>Site_Visits_Per_Month</th>\n",
       "      <th>Average_Teammate_Rating</th>\n",
       "      <th>Cohorts_Participated_In</th>\n",
       "      <th>Highest_Leaderboard_Rank</th>\n",
       "      <th>Complain</th>\n",
       "      <th>Headstarter_Rating</th>\n",
       "      <th>Probability_Of_Getting_Offer</th>\n",
       "    </tr>\n",
       "  </thead>\n",
       "  <tbody>\n",
       "    <tr>\n",
       "      <th>0</th>\n",
       "      <td>5524</td>\n",
       "      <td>Jason</td>\n",
       "      <td>Sharp</td>\n",
       "      <td>1957</td>\n",
       "      <td>Bachelors</td>\n",
       "      <td>Computer Science</td>\n",
       "      <td>93020.8</td>\n",
       "      <td>2012-04-09</td>\n",
       "      <td>58</td>\n",
       "      <td>635</td>\n",
       "      <td>...</td>\n",
       "      <td>8</td>\n",
       "      <td>10</td>\n",
       "      <td>4</td>\n",
       "      <td>14</td>\n",
       "      <td>4.86</td>\n",
       "      <td>2</td>\n",
       "      <td>226.0</td>\n",
       "      <td>0</td>\n",
       "      <td>5</td>\n",
       "      <td>39.7</td>\n",
       "    </tr>\n",
       "    <tr>\n",
       "      <th>1</th>\n",
       "      <td>2174</td>\n",
       "      <td>Cheryl</td>\n",
       "      <td>Medina</td>\n",
       "      <td>1954</td>\n",
       "      <td>Bachelors</td>\n",
       "      <td>Computer Science</td>\n",
       "      <td>74150.4</td>\n",
       "      <td>2014-08-03</td>\n",
       "      <td>38</td>\n",
       "      <td>11</td>\n",
       "      <td>...</td>\n",
       "      <td>1</td>\n",
       "      <td>1</td>\n",
       "      <td>2</td>\n",
       "      <td>10</td>\n",
       "      <td>7.92</td>\n",
       "      <td>3</td>\n",
       "      <td>395.0</td>\n",
       "      <td>0</td>\n",
       "      <td>9</td>\n",
       "      <td>0.8</td>\n",
       "    </tr>\n",
       "    <tr>\n",
       "      <th>2</th>\n",
       "      <td>4141</td>\n",
       "      <td>Jennifer</td>\n",
       "      <td>Daniels</td>\n",
       "      <td>1965</td>\n",
       "      <td>Bachelors</td>\n",
       "      <td>Finance</td>\n",
       "      <td>114580.8</td>\n",
       "      <td>2013-08-21</td>\n",
       "      <td>26</td>\n",
       "      <td>426</td>\n",
       "      <td>...</td>\n",
       "      <td>8</td>\n",
       "      <td>2</td>\n",
       "      <td>10</td>\n",
       "      <td>8</td>\n",
       "      <td>8.36</td>\n",
       "      <td>2</td>\n",
       "      <td>448.0</td>\n",
       "      <td>0</td>\n",
       "      <td>8</td>\n",
       "      <td>15.4</td>\n",
       "    </tr>\n",
       "    <tr>\n",
       "      <th>3</th>\n",
       "      <td>6182</td>\n",
       "      <td>John</td>\n",
       "      <td>Mills</td>\n",
       "      <td>1984</td>\n",
       "      <td>Bachelors</td>\n",
       "      <td>Computer Science</td>\n",
       "      <td>42633.6</td>\n",
       "      <td>2014-10-02</td>\n",
       "      <td>26</td>\n",
       "      <td>11</td>\n",
       "      <td>...</td>\n",
       "      <td>2</td>\n",
       "      <td>0</td>\n",
       "      <td>4</td>\n",
       "      <td>12</td>\n",
       "      <td>8.95</td>\n",
       "      <td>4</td>\n",
       "      <td>314.0</td>\n",
       "      <td>0</td>\n",
       "      <td>9</td>\n",
       "      <td>1.3</td>\n",
       "    </tr>\n",
       "    <tr>\n",
       "      <th>4</th>\n",
       "      <td>5324</td>\n",
       "      <td>Janet</td>\n",
       "      <td>Moore</td>\n",
       "      <td>1981</td>\n",
       "      <td>PhD</td>\n",
       "      <td>Cyber Security</td>\n",
       "      <td>116586.0</td>\n",
       "      <td>2014-01-19</td>\n",
       "      <td>94</td>\n",
       "      <td>173</td>\n",
       "      <td>...</td>\n",
       "      <td>5</td>\n",
       "      <td>3</td>\n",
       "      <td>6</td>\n",
       "      <td>10</td>\n",
       "      <td>5.72</td>\n",
       "      <td>3</td>\n",
       "      <td>264.0</td>\n",
       "      <td>0</td>\n",
       "      <td>7</td>\n",
       "      <td>9.7</td>\n",
       "    </tr>\n",
       "    <tr>\n",
       "      <th>...</th>\n",
       "      <td>...</td>\n",
       "      <td>...</td>\n",
       "      <td>...</td>\n",
       "      <td>...</td>\n",
       "      <td>...</td>\n",
       "      <td>...</td>\n",
       "      <td>...</td>\n",
       "      <td>...</td>\n",
       "      <td>...</td>\n",
       "      <td>...</td>\n",
       "      <td>...</td>\n",
       "      <td>...</td>\n",
       "      <td>...</td>\n",
       "      <td>...</td>\n",
       "      <td>...</td>\n",
       "      <td>...</td>\n",
       "      <td>...</td>\n",
       "      <td>...</td>\n",
       "      <td>...</td>\n",
       "      <td>...</td>\n",
       "      <td>...</td>\n",
       "    </tr>\n",
       "    <tr>\n",
       "      <th>2235</th>\n",
       "      <td>10870</td>\n",
       "      <td>Brittany</td>\n",
       "      <td>Estes</td>\n",
       "      <td>1967</td>\n",
       "      <td>Bachelors</td>\n",
       "      <td>Computer Science</td>\n",
       "      <td>97956.8</td>\n",
       "      <td>2013-06-13</td>\n",
       "      <td>46</td>\n",
       "      <td>709</td>\n",
       "      <td>...</td>\n",
       "      <td>9</td>\n",
       "      <td>3</td>\n",
       "      <td>4</td>\n",
       "      <td>10</td>\n",
       "      <td>9.15</td>\n",
       "      <td>4</td>\n",
       "      <td>289.0</td>\n",
       "      <td>0</td>\n",
       "      <td>9</td>\n",
       "      <td>28.5</td>\n",
       "    </tr>\n",
       "    <tr>\n",
       "      <th>2236</th>\n",
       "      <td>4001</td>\n",
       "      <td>Ashley</td>\n",
       "      <td>Brown</td>\n",
       "      <td>1946</td>\n",
       "      <td>PhD</td>\n",
       "      <td>Cyber Security</td>\n",
       "      <td>128028.0</td>\n",
       "      <td>2014-10-06</td>\n",
       "      <td>56</td>\n",
       "      <td>406</td>\n",
       "      <td>...</td>\n",
       "      <td>8</td>\n",
       "      <td>2</td>\n",
       "      <td>5</td>\n",
       "      <td>14</td>\n",
       "      <td>5.14</td>\n",
       "      <td>1</td>\n",
       "      <td>457.0</td>\n",
       "      <td>0</td>\n",
       "      <td>6</td>\n",
       "      <td>5.3</td>\n",
       "    </tr>\n",
       "    <tr>\n",
       "      <th>2237</th>\n",
       "      <td>7270</td>\n",
       "      <td>Jane</td>\n",
       "      <td>Webster</td>\n",
       "      <td>1981</td>\n",
       "      <td>Bachelors</td>\n",
       "      <td>Computer Science</td>\n",
       "      <td>91169.6</td>\n",
       "      <td>2014-01-25</td>\n",
       "      <td>91</td>\n",
       "      <td>908</td>\n",
       "      <td>...</td>\n",
       "      <td>2</td>\n",
       "      <td>3</td>\n",
       "      <td>13</td>\n",
       "      <td>12</td>\n",
       "      <td>7.27</td>\n",
       "      <td>3</td>\n",
       "      <td>316.0</td>\n",
       "      <td>0</td>\n",
       "      <td>5</td>\n",
       "      <td>22.6</td>\n",
       "    </tr>\n",
       "    <tr>\n",
       "      <th>2238</th>\n",
       "      <td>8235</td>\n",
       "      <td>Lisa</td>\n",
       "      <td>Heath</td>\n",
       "      <td>1956</td>\n",
       "      <td>Masters</td>\n",
       "      <td>Finance</td>\n",
       "      <td>124641.0</td>\n",
       "      <td>2014-01-24</td>\n",
       "      <td>8</td>\n",
       "      <td>428</td>\n",
       "      <td>...</td>\n",
       "      <td>6</td>\n",
       "      <td>5</td>\n",
       "      <td>10</td>\n",
       "      <td>6</td>\n",
       "      <td>8.11</td>\n",
       "      <td>3</td>\n",
       "      <td>306.0</td>\n",
       "      <td>0</td>\n",
       "      <td>6</td>\n",
       "      <td>16.4</td>\n",
       "    </tr>\n",
       "    <tr>\n",
       "      <th>2239</th>\n",
       "      <td>9405</td>\n",
       "      <td>Ronald</td>\n",
       "      <td>Byrd</td>\n",
       "      <td>1954</td>\n",
       "      <td>PhD</td>\n",
       "      <td>Pre-Med</td>\n",
       "      <td>105738.0</td>\n",
       "      <td>2012-10-15</td>\n",
       "      <td>40</td>\n",
       "      <td>84</td>\n",
       "      <td>...</td>\n",
       "      <td>3</td>\n",
       "      <td>1</td>\n",
       "      <td>4</td>\n",
       "      <td>14</td>\n",
       "      <td>8.43</td>\n",
       "      <td>1</td>\n",
       "      <td>546.0</td>\n",
       "      <td>0</td>\n",
       "      <td>8</td>\n",
       "      <td>3.2</td>\n",
       "    </tr>\n",
       "  </tbody>\n",
       "</table>\n",
       "<p>2211 rows × 25 columns</p>\n",
       "</div>"
      ],
      "text/plain": [
       "      Customer_ID First_Name Last_Name  Year_Birth  Education  \\\n",
       "0            5524      Jason     Sharp        1957  Bachelors   \n",
       "1            2174     Cheryl    Medina        1954  Bachelors   \n",
       "2            4141   Jennifer   Daniels        1965  Bachelors   \n",
       "3            6182       John     Mills        1984  Bachelors   \n",
       "4            5324      Janet     Moore        1981        PhD   \n",
       "...           ...        ...       ...         ...        ...   \n",
       "2235        10870   Brittany     Estes        1967  Bachelors   \n",
       "2236         4001     Ashley     Brown        1946        PhD   \n",
       "2237         7270       Jane   Webster        1981  Bachelors   \n",
       "2238         8235       Lisa     Heath        1956    Masters   \n",
       "2239         9405     Ronald      Byrd        1954        PhD   \n",
       "\n",
       "                 Major    Income Date_Enrolled  Days_Since_Last_Cohort  \\\n",
       "0     Computer Science   93020.8    2012-04-09                      58   \n",
       "1     Computer Science   74150.4    2014-08-03                      38   \n",
       "2              Finance  114580.8    2013-08-21                      26   \n",
       "3     Computer Science   42633.6    2014-10-02                      26   \n",
       "4       Cyber Security  116586.0    2014-01-19                      94   \n",
       "...                ...       ...           ...                     ...   \n",
       "2235  Computer Science   97956.8    2013-06-13                      46   \n",
       "2236    Cyber Security  128028.0    2014-10-06                      56   \n",
       "2237  Computer Science   91169.6    2014-01-25                      91   \n",
       "2238           Finance  124641.0    2014-01-24                       8   \n",
       "2239           Pre-Med  105738.0    2012-10-15                      40   \n",
       "\n",
       "      Amount_Spent_On_Courses  ...  Email_Opens  Num_Courses_Purchased  \\\n",
       "0                         635  ...            8                     10   \n",
       "1                          11  ...            1                      1   \n",
       "2                         426  ...            8                      2   \n",
       "3                          11  ...            2                      0   \n",
       "4                         173  ...            5                      3   \n",
       "...                       ...  ...          ...                    ...   \n",
       "2235                      709  ...            9                      3   \n",
       "2236                      406  ...            8                      2   \n",
       "2237                      908  ...            2                      3   \n",
       "2238                      428  ...            6                      5   \n",
       "2239                       84  ...            3                      1   \n",
       "\n",
       "      Number_of_Students_Referred  Site_Visits_Per_Month  \\\n",
       "0                               4                     14   \n",
       "1                               2                     10   \n",
       "2                              10                      8   \n",
       "3                               4                     12   \n",
       "4                               6                     10   \n",
       "...                           ...                    ...   \n",
       "2235                            4                     10   \n",
       "2236                            5                     14   \n",
       "2237                           13                     12   \n",
       "2238                           10                      6   \n",
       "2239                            4                     14   \n",
       "\n",
       "      Average_Teammate_Rating  Cohorts_Participated_In  \\\n",
       "0                        4.86                        2   \n",
       "1                        7.92                        3   \n",
       "2                        8.36                        2   \n",
       "3                        8.95                        4   \n",
       "4                        5.72                        3   \n",
       "...                       ...                      ...   \n",
       "2235                     9.15                        4   \n",
       "2236                     5.14                        1   \n",
       "2237                     7.27                        3   \n",
       "2238                     8.11                        3   \n",
       "2239                     8.43                        1   \n",
       "\n",
       "      Highest_Leaderboard_Rank  Complain  Headstarter_Rating  \\\n",
       "0                        226.0         0                   5   \n",
       "1                        395.0         0                   9   \n",
       "2                        448.0         0                   8   \n",
       "3                        314.0         0                   9   \n",
       "4                        264.0         0                   7   \n",
       "...                        ...       ...                 ...   \n",
       "2235                     289.0         0                   9   \n",
       "2236                     457.0         0                   6   \n",
       "2237                     316.0         0                   5   \n",
       "2238                     306.0         0                   6   \n",
       "2239                     546.0         0                   8   \n",
       "\n",
       "      Probability_Of_Getting_Offer  \n",
       "0                             39.7  \n",
       "1                              0.8  \n",
       "2                             15.4  \n",
       "3                              1.3  \n",
       "4                              9.7  \n",
       "...                            ...  \n",
       "2235                          28.5  \n",
       "2236                           5.3  \n",
       "2237                          22.6  \n",
       "2238                          16.4  \n",
       "2239                           3.2  \n",
       "\n",
       "[2211 rows x 25 columns]"
      ]
     },
     "execution_count": 343,
     "metadata": {},
     "output_type": "execute_result"
    }
   ],
   "source": [
    "df"
   ]
  },
  {
   "cell_type": "code",
   "execution_count": 344,
   "metadata": {},
   "outputs": [],
   "source": [
    "valid_cols = ['Amount_Spent_On_Courses', 'Amount_Spent_on_Books',\n",
    "       'Minutes_Spent_on_Headstarter', 'Questions_Completed', 'Videos_Watched',\n",
    "       'Minutes_Spent_Coding', 'Num_Courses_Purchased', 'Site_Visits_Per_Month']"
   ]
  },
  {
   "cell_type": "code",
   "execution_count": 345,
   "metadata": {},
   "outputs": [],
   "source": [
    "for col in valid_cols:\n",
    "    df = apply_transformation(df, 'Major', 'Computer Science', col, random.uniform(1, 2))"
   ]
  },
  {
   "cell_type": "code",
   "execution_count": 346,
   "metadata": {},
   "outputs": [],
   "source": [
    "for col in valid_cols:\n",
    "    df = apply_transformation(df, 'Major', 'Cyber Security', col, random.uniform(0.9, 2))"
   ]
  },
  {
   "cell_type": "code",
   "execution_count": 347,
   "metadata": {},
   "outputs": [],
   "source": [
    "for col in valid_cols:\n",
    "    df = apply_transformation(df, 'Major', 'Pre-Med', col, random.uniform(0.8, 1.8))"
   ]
  },
  {
   "cell_type": "code",
   "execution_count": 348,
   "metadata": {},
   "outputs": [],
   "source": [
    "for col in valid_cols:\n",
    "    df = apply_transformation(df, 'Major', 'Marketing', col, random.uniform(0.5, 1.5))"
   ]
  },
  {
   "cell_type": "code",
   "execution_count": 349,
   "metadata": {},
   "outputs": [],
   "source": [
    "for col in valid_cols:\n",
    "    df = apply_transformation(df, 'Major', 'Finance', col, random.uniform(0.4, 1.8))"
   ]
  },
  {
   "cell_type": "code",
   "execution_count": 353,
   "metadata": {},
   "outputs": [],
   "source": [
    "for col in valid_cols:\n",
    "    df = apply_transformation(df, 'Major', 'Law', col, random.uniform(0.4, 0.7))"
   ]
  },
  {
   "cell_type": "code",
   "execution_count": 354,
   "metadata": {},
   "outputs": [
    {
     "data": {
      "text/html": [
       "<div>\n",
       "<style scoped>\n",
       "    .dataframe tbody tr th:only-of-type {\n",
       "        vertical-align: middle;\n",
       "    }\n",
       "\n",
       "    .dataframe tbody tr th {\n",
       "        vertical-align: top;\n",
       "    }\n",
       "\n",
       "    .dataframe thead th {\n",
       "        text-align: right;\n",
       "    }\n",
       "</style>\n",
       "<table border=\"1\" class=\"dataframe\">\n",
       "  <thead>\n",
       "    <tr style=\"text-align: right;\">\n",
       "      <th></th>\n",
       "      <th>Customer_ID</th>\n",
       "      <th>First_Name</th>\n",
       "      <th>Last_Name</th>\n",
       "      <th>Year_Birth</th>\n",
       "      <th>Education</th>\n",
       "      <th>Major</th>\n",
       "      <th>Income</th>\n",
       "      <th>Date_Enrolled</th>\n",
       "      <th>Days_Since_Last_Cohort</th>\n",
       "      <th>Amount_Spent_On_Courses</th>\n",
       "      <th>...</th>\n",
       "      <th>Email_Opens</th>\n",
       "      <th>Num_Courses_Purchased</th>\n",
       "      <th>Number_of_Students_Referred</th>\n",
       "      <th>Site_Visits_Per_Month</th>\n",
       "      <th>Average_Teammate_Rating</th>\n",
       "      <th>Cohorts_Participated_In</th>\n",
       "      <th>Highest_Leaderboard_Rank</th>\n",
       "      <th>Complain</th>\n",
       "      <th>Headstarter_Rating</th>\n",
       "      <th>Probability_Of_Getting_Offer</th>\n",
       "    </tr>\n",
       "  </thead>\n",
       "  <tbody>\n",
       "    <tr>\n",
       "      <th>0</th>\n",
       "      <td>5524</td>\n",
       "      <td>Jason</td>\n",
       "      <td>Sharp</td>\n",
       "      <td>1957</td>\n",
       "      <td>Bachelors</td>\n",
       "      <td>Computer Science</td>\n",
       "      <td>93020.8</td>\n",
       "      <td>2012-04-09</td>\n",
       "      <td>58</td>\n",
       "      <td>931.0</td>\n",
       "      <td>...</td>\n",
       "      <td>8</td>\n",
       "      <td>11.0</td>\n",
       "      <td>4</td>\n",
       "      <td>18.0</td>\n",
       "      <td>4.86</td>\n",
       "      <td>2</td>\n",
       "      <td>226.0</td>\n",
       "      <td>0</td>\n",
       "      <td>5</td>\n",
       "      <td>39.7</td>\n",
       "    </tr>\n",
       "    <tr>\n",
       "      <th>1</th>\n",
       "      <td>2174</td>\n",
       "      <td>Cheryl</td>\n",
       "      <td>Medina</td>\n",
       "      <td>1954</td>\n",
       "      <td>Bachelors</td>\n",
       "      <td>Computer Science</td>\n",
       "      <td>74150.4</td>\n",
       "      <td>2014-08-03</td>\n",
       "      <td>38</td>\n",
       "      <td>16.0</td>\n",
       "      <td>...</td>\n",
       "      <td>1</td>\n",
       "      <td>1.0</td>\n",
       "      <td>2</td>\n",
       "      <td>13.0</td>\n",
       "      <td>7.92</td>\n",
       "      <td>3</td>\n",
       "      <td>395.0</td>\n",
       "      <td>0</td>\n",
       "      <td>9</td>\n",
       "      <td>0.8</td>\n",
       "    </tr>\n",
       "    <tr>\n",
       "      <th>2</th>\n",
       "      <td>4141</td>\n",
       "      <td>Jennifer</td>\n",
       "      <td>Daniels</td>\n",
       "      <td>1965</td>\n",
       "      <td>Bachelors</td>\n",
       "      <td>Finance</td>\n",
       "      <td>114580.8</td>\n",
       "      <td>2013-08-21</td>\n",
       "      <td>26</td>\n",
       "      <td>738.0</td>\n",
       "      <td>...</td>\n",
       "      <td>8</td>\n",
       "      <td>2.0</td>\n",
       "      <td>10</td>\n",
       "      <td>8.0</td>\n",
       "      <td>8.36</td>\n",
       "      <td>2</td>\n",
       "      <td>448.0</td>\n",
       "      <td>0</td>\n",
       "      <td>8</td>\n",
       "      <td>15.4</td>\n",
       "    </tr>\n",
       "    <tr>\n",
       "      <th>3</th>\n",
       "      <td>6182</td>\n",
       "      <td>John</td>\n",
       "      <td>Mills</td>\n",
       "      <td>1984</td>\n",
       "      <td>Bachelors</td>\n",
       "      <td>Computer Science</td>\n",
       "      <td>42633.6</td>\n",
       "      <td>2014-10-02</td>\n",
       "      <td>26</td>\n",
       "      <td>16.0</td>\n",
       "      <td>...</td>\n",
       "      <td>2</td>\n",
       "      <td>0.0</td>\n",
       "      <td>4</td>\n",
       "      <td>15.0</td>\n",
       "      <td>8.95</td>\n",
       "      <td>4</td>\n",
       "      <td>314.0</td>\n",
       "      <td>0</td>\n",
       "      <td>9</td>\n",
       "      <td>1.3</td>\n",
       "    </tr>\n",
       "    <tr>\n",
       "      <th>4</th>\n",
       "      <td>5324</td>\n",
       "      <td>Janet</td>\n",
       "      <td>Moore</td>\n",
       "      <td>1981</td>\n",
       "      <td>PhD</td>\n",
       "      <td>Cyber Security</td>\n",
       "      <td>116586.0</td>\n",
       "      <td>2014-01-19</td>\n",
       "      <td>94</td>\n",
       "      <td>306.0</td>\n",
       "      <td>...</td>\n",
       "      <td>5</td>\n",
       "      <td>5.0</td>\n",
       "      <td>6</td>\n",
       "      <td>15.0</td>\n",
       "      <td>5.72</td>\n",
       "      <td>3</td>\n",
       "      <td>264.0</td>\n",
       "      <td>0</td>\n",
       "      <td>7</td>\n",
       "      <td>9.7</td>\n",
       "    </tr>\n",
       "    <tr>\n",
       "      <th>...</th>\n",
       "      <td>...</td>\n",
       "      <td>...</td>\n",
       "      <td>...</td>\n",
       "      <td>...</td>\n",
       "      <td>...</td>\n",
       "      <td>...</td>\n",
       "      <td>...</td>\n",
       "      <td>...</td>\n",
       "      <td>...</td>\n",
       "      <td>...</td>\n",
       "      <td>...</td>\n",
       "      <td>...</td>\n",
       "      <td>...</td>\n",
       "      <td>...</td>\n",
       "      <td>...</td>\n",
       "      <td>...</td>\n",
       "      <td>...</td>\n",
       "      <td>...</td>\n",
       "      <td>...</td>\n",
       "      <td>...</td>\n",
       "      <td>...</td>\n",
       "    </tr>\n",
       "    <tr>\n",
       "      <th>2235</th>\n",
       "      <td>10870</td>\n",
       "      <td>Brittany</td>\n",
       "      <td>Estes</td>\n",
       "      <td>1967</td>\n",
       "      <td>Bachelors</td>\n",
       "      <td>Computer Science</td>\n",
       "      <td>97956.8</td>\n",
       "      <td>2013-06-13</td>\n",
       "      <td>46</td>\n",
       "      <td>1039.0</td>\n",
       "      <td>...</td>\n",
       "      <td>9</td>\n",
       "      <td>3.0</td>\n",
       "      <td>4</td>\n",
       "      <td>13.0</td>\n",
       "      <td>9.15</td>\n",
       "      <td>4</td>\n",
       "      <td>289.0</td>\n",
       "      <td>0</td>\n",
       "      <td>9</td>\n",
       "      <td>28.5</td>\n",
       "    </tr>\n",
       "    <tr>\n",
       "      <th>2236</th>\n",
       "      <td>4001</td>\n",
       "      <td>Ashley</td>\n",
       "      <td>Brown</td>\n",
       "      <td>1946</td>\n",
       "      <td>PhD</td>\n",
       "      <td>Cyber Security</td>\n",
       "      <td>128028.0</td>\n",
       "      <td>2014-10-06</td>\n",
       "      <td>56</td>\n",
       "      <td>719.0</td>\n",
       "      <td>...</td>\n",
       "      <td>8</td>\n",
       "      <td>4.0</td>\n",
       "      <td>5</td>\n",
       "      <td>21.0</td>\n",
       "      <td>5.14</td>\n",
       "      <td>1</td>\n",
       "      <td>457.0</td>\n",
       "      <td>0</td>\n",
       "      <td>6</td>\n",
       "      <td>5.3</td>\n",
       "    </tr>\n",
       "    <tr>\n",
       "      <th>2237</th>\n",
       "      <td>7270</td>\n",
       "      <td>Jane</td>\n",
       "      <td>Webster</td>\n",
       "      <td>1981</td>\n",
       "      <td>Bachelors</td>\n",
       "      <td>Computer Science</td>\n",
       "      <td>91169.6</td>\n",
       "      <td>2014-01-25</td>\n",
       "      <td>91</td>\n",
       "      <td>1331.0</td>\n",
       "      <td>...</td>\n",
       "      <td>2</td>\n",
       "      <td>3.0</td>\n",
       "      <td>13</td>\n",
       "      <td>15.0</td>\n",
       "      <td>7.27</td>\n",
       "      <td>3</td>\n",
       "      <td>316.0</td>\n",
       "      <td>0</td>\n",
       "      <td>5</td>\n",
       "      <td>22.6</td>\n",
       "    </tr>\n",
       "    <tr>\n",
       "      <th>2238</th>\n",
       "      <td>8235</td>\n",
       "      <td>Lisa</td>\n",
       "      <td>Heath</td>\n",
       "      <td>1956</td>\n",
       "      <td>Masters</td>\n",
       "      <td>Finance</td>\n",
       "      <td>124641.0</td>\n",
       "      <td>2014-01-24</td>\n",
       "      <td>8</td>\n",
       "      <td>742.0</td>\n",
       "      <td>...</td>\n",
       "      <td>6</td>\n",
       "      <td>4.0</td>\n",
       "      <td>10</td>\n",
       "      <td>6.0</td>\n",
       "      <td>8.11</td>\n",
       "      <td>3</td>\n",
       "      <td>306.0</td>\n",
       "      <td>0</td>\n",
       "      <td>6</td>\n",
       "      <td>16.4</td>\n",
       "    </tr>\n",
       "    <tr>\n",
       "      <th>2239</th>\n",
       "      <td>9405</td>\n",
       "      <td>Ronald</td>\n",
       "      <td>Byrd</td>\n",
       "      <td>1954</td>\n",
       "      <td>PhD</td>\n",
       "      <td>Pre-Med</td>\n",
       "      <td>105738.0</td>\n",
       "      <td>2012-10-15</td>\n",
       "      <td>40</td>\n",
       "      <td>123.0</td>\n",
       "      <td>...</td>\n",
       "      <td>3</td>\n",
       "      <td>1.0</td>\n",
       "      <td>4</td>\n",
       "      <td>19.0</td>\n",
       "      <td>8.43</td>\n",
       "      <td>1</td>\n",
       "      <td>546.0</td>\n",
       "      <td>0</td>\n",
       "      <td>8</td>\n",
       "      <td>3.2</td>\n",
       "    </tr>\n",
       "  </tbody>\n",
       "</table>\n",
       "<p>2211 rows × 25 columns</p>\n",
       "</div>"
      ],
      "text/plain": [
       "      Customer_ID First_Name Last_Name  Year_Birth  Education  \\\n",
       "0            5524      Jason     Sharp        1957  Bachelors   \n",
       "1            2174     Cheryl    Medina        1954  Bachelors   \n",
       "2            4141   Jennifer   Daniels        1965  Bachelors   \n",
       "3            6182       John     Mills        1984  Bachelors   \n",
       "4            5324      Janet     Moore        1981        PhD   \n",
       "...           ...        ...       ...         ...        ...   \n",
       "2235        10870   Brittany     Estes        1967  Bachelors   \n",
       "2236         4001     Ashley     Brown        1946        PhD   \n",
       "2237         7270       Jane   Webster        1981  Bachelors   \n",
       "2238         8235       Lisa     Heath        1956    Masters   \n",
       "2239         9405     Ronald      Byrd        1954        PhD   \n",
       "\n",
       "                 Major    Income Date_Enrolled  Days_Since_Last_Cohort  \\\n",
       "0     Computer Science   93020.8    2012-04-09                      58   \n",
       "1     Computer Science   74150.4    2014-08-03                      38   \n",
       "2              Finance  114580.8    2013-08-21                      26   \n",
       "3     Computer Science   42633.6    2014-10-02                      26   \n",
       "4       Cyber Security  116586.0    2014-01-19                      94   \n",
       "...                ...       ...           ...                     ...   \n",
       "2235  Computer Science   97956.8    2013-06-13                      46   \n",
       "2236    Cyber Security  128028.0    2014-10-06                      56   \n",
       "2237  Computer Science   91169.6    2014-01-25                      91   \n",
       "2238           Finance  124641.0    2014-01-24                       8   \n",
       "2239           Pre-Med  105738.0    2012-10-15                      40   \n",
       "\n",
       "      Amount_Spent_On_Courses  ...  Email_Opens  Num_Courses_Purchased  \\\n",
       "0                       931.0  ...            8                   11.0   \n",
       "1                        16.0  ...            1                    1.0   \n",
       "2                       738.0  ...            8                    2.0   \n",
       "3                        16.0  ...            2                    0.0   \n",
       "4                       306.0  ...            5                    5.0   \n",
       "...                       ...  ...          ...                    ...   \n",
       "2235                   1039.0  ...            9                    3.0   \n",
       "2236                    719.0  ...            8                    4.0   \n",
       "2237                   1331.0  ...            2                    3.0   \n",
       "2238                    742.0  ...            6                    4.0   \n",
       "2239                    123.0  ...            3                    1.0   \n",
       "\n",
       "      Number_of_Students_Referred  Site_Visits_Per_Month  \\\n",
       "0                               4                   18.0   \n",
       "1                               2                   13.0   \n",
       "2                              10                    8.0   \n",
       "3                               4                   15.0   \n",
       "4                               6                   15.0   \n",
       "...                           ...                    ...   \n",
       "2235                            4                   13.0   \n",
       "2236                            5                   21.0   \n",
       "2237                           13                   15.0   \n",
       "2238                           10                    6.0   \n",
       "2239                            4                   19.0   \n",
       "\n",
       "      Average_Teammate_Rating  Cohorts_Participated_In  \\\n",
       "0                        4.86                        2   \n",
       "1                        7.92                        3   \n",
       "2                        8.36                        2   \n",
       "3                        8.95                        4   \n",
       "4                        5.72                        3   \n",
       "...                       ...                      ...   \n",
       "2235                     9.15                        4   \n",
       "2236                     5.14                        1   \n",
       "2237                     7.27                        3   \n",
       "2238                     8.11                        3   \n",
       "2239                     8.43                        1   \n",
       "\n",
       "      Highest_Leaderboard_Rank  Complain  Headstarter_Rating  \\\n",
       "0                        226.0         0                   5   \n",
       "1                        395.0         0                   9   \n",
       "2                        448.0         0                   8   \n",
       "3                        314.0         0                   9   \n",
       "4                        264.0         0                   7   \n",
       "...                        ...       ...                 ...   \n",
       "2235                     289.0         0                   9   \n",
       "2236                     457.0         0                   6   \n",
       "2237                     316.0         0                   5   \n",
       "2238                     306.0         0                   6   \n",
       "2239                     546.0         0                   8   \n",
       "\n",
       "      Probability_Of_Getting_Offer  \n",
       "0                             39.7  \n",
       "1                              0.8  \n",
       "2                             15.4  \n",
       "3                              1.3  \n",
       "4                              9.7  \n",
       "...                            ...  \n",
       "2235                          28.5  \n",
       "2236                           5.3  \n",
       "2237                          22.6  \n",
       "2238                          16.4  \n",
       "2239                           3.2  \n",
       "\n",
       "[2211 rows x 25 columns]"
      ]
     },
     "execution_count": 354,
     "metadata": {},
     "output_type": "execute_result"
    }
   ],
   "source": [
    "df"
   ]
  },
  {
   "cell_type": "code",
   "execution_count": 356,
   "metadata": {},
   "outputs": [
    {
     "data": {
      "text/plain": [
       "Index(['Customer_ID', 'First_Name', 'Last_Name', 'Year_Birth', 'Education',\n",
       "       'Major', 'Income', 'Date_Enrolled', 'Days_Since_Last_Cohort',\n",
       "       'Amount_Spent_On_Courses', 'Amount_Spent_on_Books',\n",
       "       'Minutes_Spent_on_Headstarter', 'Questions_Completed', 'Videos_Watched',\n",
       "       'Minutes_Spent_Coding', 'Email_Opens', 'Num_Courses_Purchased',\n",
       "       'Number_of_Students_Referred', 'Site_Visits_Per_Month',\n",
       "       'Average_Teammate_Rating', 'Cohorts_Participated_In',\n",
       "       'Highest_Leaderboard_Rank', 'Complain', 'Headstarter_Rating',\n",
       "       'Probability_Of_Getting_Offer'],\n",
       "      dtype='object')"
      ]
     },
     "execution_count": 356,
     "metadata": {},
     "output_type": "execute_result"
    }
   ],
   "source": [
    "df.columns"
   ]
  },
  {
   "cell_type": "code",
   "execution_count": null,
   "metadata": {},
   "outputs": [],
   "source": []
  },
  {
   "cell_type": "code",
   "execution_count": 355,
   "metadata": {},
   "outputs": [],
   "source": [
    "df.to_csv('HackathonDataset.csv')"
   ]
  },
  {
   "cell_type": "code",
   "execution_count": null,
   "metadata": {},
   "outputs": [],
   "source": []
  }
 ],
 "metadata": {
  "kernelspec": {
   "display_name": "Python 3.10.0 64-bit",
   "language": "python",
   "name": "python3"
  },
  "language_info": {
   "codemirror_mode": {
    "name": "ipython",
    "version": 3
   },
   "file_extension": ".py",
   "mimetype": "text/x-python",
   "name": "python",
   "nbconvert_exporter": "python",
   "pygments_lexer": "ipython3",
   "version": "3.10.0"
  },
  "orig_nbformat": 4,
  "vscode": {
   "interpreter": {
    "hash": "369f2c481f4da34e4445cda3fffd2e751bd1c4d706f27375911949ba6bb62e1c"
   }
  }
 },
 "nbformat": 4,
 "nbformat_minor": 2
}
